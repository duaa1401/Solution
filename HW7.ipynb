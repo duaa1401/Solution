{
 "cells": [
  {
   "cell_type": "code",
   "execution_count": null,
   "metadata": {},
   "outputs": [],
   "source": [
    "grade = int(input(\"Input a Numeric grade \"))\n",
    "   \n",
    "if grade > 90:\n",
    "     grading = \"A\"\n",
    "elif grade > 80 and grade < 90:\n",
    "     grading = \"B\"\n",
    "elif grade > 70 and grade < 80:\n",
    "     grading = \"C\"\n",
    "elif grade > 60 and grade < 70:\n",
    "    grading = \"D\"\n",
    "elif grade < 50:\n",
    "     grading = \"F\"\n",
    "print(grading)"
   ]
  },
  {
   "cell_type": "code",
   "execution_count": null,
   "metadata": {
    "collapsed": true
   },
   "outputs": [],
   "source": [
    "list1 = [1,2,3,4,5,6]\n",
    "list2 = [3, 5, 7, 9]\n",
    "list(set(list1).intersection(list2))"
   ]
  },
  {
   "cell_type": "code",
   "execution_count": null,
   "metadata": {
    "collapsed": true
   },
   "outputs": [],
   "source": [
    "def isPalindrome(s): \n",
    "      \n",
    "    # Using predefined function to  \n",
    "    # reverse to string print(s) \n",
    "    rev = ''.join(reversed(s)) \n",
    "  \n",
    "    # Checking if both string are  \n",
    "    # equal or not \n",
    "    if (s == rev): \n",
    "        return True\n",
    "    return False\n",
    "  \n",
    "# main function \n",
    "s = \"abba\"\n",
    "ans = isPalindrome(s) \n",
    "  \n",
    "if (ans): \n",
    "    print(\"True\") \n",
    "else: \n",
    "    print(\"False\") "
   ]
  },
  {
   "cell_type": "code",
   "execution_count": null,
   "metadata": {
    "collapsed": true
   },
   "outputs": [],
   "source": [
    "items = []\n",
    "for i in range(100, 401):\n",
    "    s = str(i)\n",
    "    if (int(s[0])%2==0) and (int(s[1])%2==0) and (int(s[2])%2==0):\n",
    "        items.append(s)\n",
    "print( \",\".join(items))"
   ]
  },
  {
   "cell_type": "code",
   "execution_count": null,
   "metadata": {
    "collapsed": true
   },
   "outputs": [],
   "source": [
    "def count_bases(input_str):\n",
    "    result = {}\n",
    "    for s in input_str:\n",
    "        try:\n",
    "            result[s]+=1\n",
    "        except:\n",
    "            result[s] = 1\n",
    "\n",
    "    return result\n",
    "\n",
    "print(count_bases('ATGATAGGGGGG'))"
   ]
  }
 ],
 "metadata": {
  "kernelspec": {
   "display_name": "Python 3",
   "language": "python",
   "name": "python3"
  },
  "language_info": {
   "codemirror_mode": {
    "name": "ipython",
    "version": 3
   },
   "file_extension": ".py",
   "mimetype": "text/x-python",
   "name": "python",
   "nbconvert_exporter": "python",
   "pygments_lexer": "ipython3",
   "version": "3.7.1"
  }
 },
 "nbformat": 4,
 "nbformat_minor": 2
}
